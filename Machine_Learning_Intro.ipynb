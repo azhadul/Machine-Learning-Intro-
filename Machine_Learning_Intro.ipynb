{
  "nbformat": 4,
  "nbformat_minor": 0,
  "metadata": {
    "colab": {
      "provenance": []
    },
    "kernelspec": {
      "name": "python3",
      "display_name": "Python 3"
    },
    "language_info": {
      "name": "python"
    }
  },
  "cells": [
    {
      "cell_type": "markdown",
      "source": [
        "1: Explain the differences between AI, ML, Deep Learning (DL), and Data\n",
        "Science (DS).\n",
        "-  Artificial Intelligence (AI): AI is a broad field concerned with building smart machines capable of performing tasks that typically require human intelligence, such as reasoning and decision-making.\n",
        "\n",
        "   Machine Learning (ML): ML is a subset of AI that focuses on algorithms that enable computers to learn from data and improve over time without explicit programming.\n",
        "\n",
        "   Deep Learning (DL): DL is a type of ML that uses neural networks with many layers to learn complex representations, especially effective in tasks like image and speech recognition.\n",
        "\n",
        "   Data Science (DS): DS is an interdisciplinary field involving techniques to extract insights and knowledge from data, often using tools from statistics, ML, and computer science."
      ],
      "metadata": {
        "id": "GmbMYtt-0bxI"
      }
    },
    {
      "cell_type": "markdown",
      "source": [
        "2: What are the types of machine learning? Describe each with one\n",
        "real-world example.\n",
        "-  upervised Learning: Learning from labeled data. Example: Predicting student grades based on past performance.\n",
        "\n",
        "   Unsupervised Learning: Learning from unlabeled data. Example: Customer segmentation in marketing based on buying patterns.\n",
        "\n",
        "   Reinforcement Learning: Learning through feedback, rewards, or penalties. Example: A robot learning to walk using trial and error"
      ],
      "metadata": {
        "id": "9mwlxJ1I0btw"
      }
    },
    {
      "cell_type": "markdown",
      "source": [
        "3: Define overfitting, underfitting, and the bias-variance tradeoff in machine\n",
        "learning.\n",
        "-  Overfitting: The model learns not only the general pattern but also the noise in the training data, resulting in poor performance on new data.\n",
        "\n",
        "   Underfitting: The model fails to capture the underlying structure of the data and performs badly both on the training and new data.\n",
        "\n",
        "   Bias-Variance Tradeoff: An ideal model should strike a balance between bias (error due to overly simplistic assumptions) and variance (error due to too much sensitivity to data specifics), achieving good generalization\n"
      ],
      "metadata": {
        "id": "gW4WsXSO1lDf"
      }
    },
    {
      "cell_type": "markdown",
      "source": [
        "4: What are outliers in a dataset, and list three common techniques for\n",
        "handling them.\n",
        "-  Outliers:\n",
        "\n",
        "   These are data points that are significantly different from others in the dataset.\n",
        "\n",
        "   Techniques:\n",
        "\n",
        "   Removing outliers based on statistical thresholds\n",
        "\n",
        "   Transforming data (log transformations, etc.)\n",
        "\n",
        "   Using robust models or algorithms that are not sensitive to outliers"
      ],
      "metadata": {
        "id": "wnPniUDW182H"
      }
    },
    {
      "cell_type": "markdown",
      "source": [
        "5: Explain the process of handling missing values and mention one\n",
        "imputation technique for numerical and one for categorical data\n",
        "-  Process: Analyze the missing data, choose an imputation method, and apply it appropriately.\n",
        "\n",
        "   Numerical Imputation: Use mean or median to fill missing values in numeric columns.\n",
        "\n",
        "   Categorical Imputation: Use mode (most common value) to fill missing values in categorical columns"
      ],
      "metadata": {
        "id": "8nRB5Nqt2dY-"
      }
    },
    {
      "cell_type": "markdown",
      "source": [
        "6: Write a Python program that:\n",
        "● Creates a synthetic imbalanced dataset with make_classification() from\n",
        "sklearn.datasets.\n",
        "● Prints the class distribution.\n",
        "-  Task: Create a synthetic classification dataset using make_classification from scikit-learn with imbalanced classes and print the class distribution"
      ],
      "metadata": {
        "id": "3VibGkTj24nH"
      }
    },
    {
      "cell_type": "code",
      "source": [
        "from sklearn.datasets import make_classification\n",
        "import numpy as np\n",
        "\n",
        "X, y = make_classification(n_classes=2, weights=[0.9, 0.1], n_samples=1000, random_state=42)\n",
        "\n",
        "\n",
        "print(np.bincount(y))\n"
      ],
      "metadata": {
        "colab": {
          "base_uri": "https://localhost:8080/"
        },
        "id": "xxqY4Esb3IpP",
        "outputId": "3c7a4153-9338-4b62-e479-87ed93115122"
      },
      "execution_count": 4,
      "outputs": [
        {
          "output_type": "stream",
          "name": "stdout",
          "text": [
            "[897 103]\n"
          ]
        }
      ]
    },
    {
      "cell_type": "markdown",
      "source": [
        "7: Implement one-hot encoding using pandas for the following\n",
        "list of colors:\n",
        "['Red', 'Green', 'Blue', 'Green', 'Red']. Print the resulting dataframe.\n"
      ],
      "metadata": {
        "id": "kG0rwz6V3PVm"
      }
    },
    {
      "cell_type": "code",
      "source": [
        "import pandas as pd\n",
        "\n",
        "colors = [\"Red\", \"Green\", \"Blue\", \"Green\", \"Red\"]\n",
        "df = pd.DataFrame({'Color': colors})\n",
        "print(pd.get_dummies(df))\n"
      ],
      "metadata": {
        "colab": {
          "base_uri": "https://localhost:8080/"
        },
        "id": "S0ED-x7E3MiH",
        "outputId": "7ebf5909-eb42-4d52-d898-004c316f760a"
      },
      "execution_count": 5,
      "outputs": [
        {
          "output_type": "stream",
          "name": "stdout",
          "text": [
            "   Color_Blue  Color_Green  Color_Red\n",
            "0       False        False       True\n",
            "1       False         True      False\n",
            "2        True        False      False\n",
            "3       False         True      False\n",
            "4       False        False       True\n"
          ]
        }
      ]
    },
    {
      "cell_type": "markdown",
      "source": [
        " 8: Write a Python script to:\n",
        "\n",
        "● Generate 1000 samples from a normal distribution.\n",
        "\n",
        "● Introduce 50 random missing values.\n",
        "\n",
        "● Fill missing values with the column mean.\n",
        "\n",
        "● Plot a histogram before and after imputation"
      ],
      "metadata": {
        "id": "f4vxOKWD3_uX"
      }
    },
    {
      "cell_type": "code",
      "source": [
        "import numpy as np\n",
        "import pandas as pd\n",
        "import matplotlib.pyplot as plt\n",
        "\n",
        "data = np.random.normal(size=1000)\n",
        "missing_indices = np.random.choice(1000, 50, replace=False)\n",
        "data[missing_indices] = np.nan\n",
        "df = pd.DataFrame(data, columns=[\"Samples\"])\n",
        "\n",
        "plt.hist(df[\"Samples\"].dropna(), bins=30)\n",
        "plt.title(\"Before Imputation\")\n",
        "plt.show()\n",
        "\n",
        "df[\"Samples\"].fillna(df[\"Samples\"].mean(), inplace=True)\n",
        "plt.hist(df[\"Samples\"], bins=30)\n",
        "plt.title(\"After Imputation\")\n",
        "plt.show()\n"
      ],
      "metadata": {
        "colab": {
          "base_uri": "https://localhost:8080/",
          "height": 1000
        },
        "id": "lcLtguZt36_-",
        "outputId": "557ccfb9-7180-461b-ece1-049a46a24b43"
      },
      "execution_count": 6,
      "outputs": [
        {
          "output_type": "display_data",
          "data": {
            "text/plain": [
              "<Figure size 640x480 with 1 Axes>"
            ],
            "image/png": "[encoded data removed]"
          },
          "metadata": {}
        },
        {
          "output_type": "stream",
          "name": "stderr",
          "text": [
            "/tmp/ipython-input-1207631088.py:14: FutureWarning: A value is trying to be set on a copy of a DataFrame or Series through chained assignment using an inplace method.\n",
            "The behavior will change in pandas 3.0. This inplace method will never work because the intermediate object on which we are setting values always behaves as a copy.\n",
            "\n",
            "For example, when doing 'df[col].method(value, inplace=True)', try using 'df.method({col: value}, inplace=True)' or df[col] = df[col].method(value) instead, to perform the operation inplace on the original object.\n",
            "\n",
            "\n",
            "  df[\"Samples\"].fillna(df[\"Samples\"].mean(), inplace=True)\n"
          ]
        },
        {
          "output_type": "display_data",
          "data": {
            "text/plain": [
              "<Figure size 640x480 with 1 Axes>"
            ],
            "image/png": "[encoded data removed]"
          },
          "metadata": {}
        }
      ]
    },
    {
      "cell_type": "markdown",
      "source": [
        "9: Implement Min-Max scaling on the following list of numbers [2, 5, 10, 15,\n",
        "20] using sklearn.preprocessing.MinMaxScaler. Print the scaled array.\n"
      ],
      "metadata": {
        "id": "vJOf7Hxg4dpv"
      }
    },
    {
      "cell_type": "code",
      "source": [
        "from sklearn.preprocessing import MinMaxScaler\n",
        "import numpy as np\n",
        "\n",
        "data = np.array([2, 5, 10, 15, 20]).reshape(-1, 1)\n",
        "scaler = MinMaxScaler()\n",
        "scaled = scaler.fit_transform(data)\n",
        "print(scaled.ravel())\n"
      ],
      "metadata": {
        "colab": {
          "base_uri": "https://localhost:8080/"
        },
        "id": "jZqtTk4u4Vp_",
        "outputId": "1aa84049-d8e7-4486-cf9a-d064de3e2448"
      },
      "execution_count": 7,
      "outputs": [
        {
          "output_type": "stream",
          "name": "stdout",
          "text": [
            "[0.         0.16666667 0.44444444 0.72222222 1.        ]\n"
          ]
        }
      ]
    },
    {
      "cell_type": "markdown",
      "source": [
        "10. You are working as a data scientist for a retail company. You receive a customer\n",
        "transaction dataset that contains:\n",
        "\n",
        "● Missing ages,\n",
        "\n",
        "● Outliers in transaction amount,\n",
        "\n",
        "● A highly imbalanced target (fraud vs. non-fraud),\n",
        "\n",
        "● Categorical variables like payment method.\n",
        "\n",
        "Explain the step-by-step data preparation plan you’d follow before training a machine learning\n",
        "model. Include how you’d address missing data, outliers, imbalance, and encoding.\n"
      ],
      "metadata": {
        "id": "mqDnVaQJ4u3e"
      }
    },
    {
      "cell_type": "code",
      "source": [
        "import pandas as pd\n",
        "import numpy as np\n",
        "from sklearn.impute import SimpleImputer\n",
        "from sklearn.preprocessing import StandardScaler\n",
        "\n",
        "\n",
        "np.random.seed(0)\n",
        "rows = 1000\n",
        "data = {\n",
        "    'Age': np.random.normal(40, 12, rows),\n",
        "    'TransactionAmount': np.random.normal(1000, 300, rows),\n",
        "    'PaymentMethod': np.random.choice(['Credit', 'Debit', 'UPI', 'Cash'], rows),\n",
        "    'IsFraud': np.random.choice([0, 1], rows, p=[0.95, 0.05])\n",
        "}\n",
        "df = pd.DataFrame(data)\n",
        "\n",
        "\n",
        "missing_indices = np.random.choice(rows, 80, replace=False)\n",
        "df.loc[missing_indices, 'Age'] = np.nan\n",
        "\n",
        "\n",
        "outlier_indices = np.random.choice(rows, 10, replace=False)\n",
        "df.loc[outlier_indices, 'TransactionAmount'] = df['TransactionAmount'] * 10\n",
        "\n",
        "\n",
        "\n",
        "imputer = SimpleImputer(strategy='mean')\n",
        "df['Age'] = imputer.fit_transform(df[['Age']])\n",
        "\n",
        "\n",
        "\n",
        "q1 = df['TransactionAmount'].quantile(0.25)\n",
        "q3 = df['TransactionAmount'].quantile(0.75)\n",
        "iqr = q3 - q1\n",
        "lower = q1 - 1.5 * iqr\n",
        "upper = q3 + 1.5 * iqr\n",
        "df = df[(df['TransactionAmount'] >= lower) & (df['TransactionAmount'] <= upper)]\n",
        "\n",
        "\n",
        "df = pd.get_dummies(df, columns=['PaymentMethod'])\n",
        "\n",
        "\n",
        "count_nonfraud = df['IsFraud'].value_counts()[0]\n",
        "count_fraud = df['IsFraud'].value_counts()[1]\n",
        "if count_fraud > 0:\n",
        "    df_fraud = df[df['IsFraud'] == 1]\n",
        "    df_nonfraud = df[df['IsFraud'] == 0]\n",
        "    df_fraud_upsampled = df_fraud.sample(count_nonfraud, replace=True)\n",
        "    df_balanced = pd.concat([df_nonfraud, df_fraud_upsampled], axis=0)\n",
        "else:\n",
        "    df_balanced = df.copy()\n",
        "\n",
        "\n",
        "features = df_balanced.drop('IsFraud', axis=1)\n",
        "scaler = StandardScaler()\n",
        "features_scaled = scaler.fit_transform(features)\n",
        "\n",
        "print('Shape after outlier removal:', df.shape)\n",
        "print('Class balance before upsampling:', df['IsFraud'].value_counts().to_dict())\n",
        "print('Class balance after upsampling:', df_balanced['IsFraud'].value_counts().to_dict())\n",
        "print('First rows of scaled feature matrix:')\n",
        "print(pd.DataFrame(features_scaled, columns=features.columns).head())\n"
      ],
      "metadata": {
        "colab": {
          "base_uri": "https://localhost:8080/"
        },
        "id": "8V-FfzM95s2O",
        "outputId": "fcd87ca5-4ef4-4c6f-9414-e620bf0b7d09"
      },
      "execution_count": 9,
      "outputs": [
        {
          "output_type": "stream",
          "name": "stdout",
          "text": [
            "Shape after outlier removal: (983, 7)\n",
            "Class balance before upsampling: {0: 931, 1: 52}\n",
            "Class balance after upsampling: {0: 931, 1: 931}\n",
            "First rows of scaled feature matrix:\n",
            "        Age  TransactionAmount  PaymentMethod_Cash  PaymentMethod_Credit  \\\n",
            "0  1.893280           0.570439           -0.565360             -0.580244   \n",
            "1  0.603255           0.913643            1.768786             -0.580244   \n",
            "2  1.150499          -0.427295           -0.565360             -0.580244   \n",
            "3  2.344294           0.110216            1.768786             -0.580244   \n",
            "4  1.991180           0.236008           -0.565360             -0.580244   \n",
            "\n",
            "   PaymentMethod_Debit  PaymentMethod_UPI  \n",
            "0             1.589502          -0.534707  \n",
            "1            -0.629128          -0.534707  \n",
            "2            -0.629128           1.870183  \n",
            "3            -0.629128          -0.534707  \n",
            "4            -0.629128           1.870183  \n"
          ]
        }
      ]
    }
  ]
}